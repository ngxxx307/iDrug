{
 "cells": [
  {
   "cell_type": "code",
   "execution_count": 1,
   "id": "2d4d77e0",
   "metadata": {},
   "outputs": [],
   "source": [
    "import numpy as np\n",
    "import csv\n",
    "import time\n",
    "import scipy.io"
   ]
  },
  {
   "cell_type": "markdown",
   "id": "c9caac96",
   "metadata": {},
   "source": [
    "### 1. Load the Data"
   ]
  },
  {
   "cell_type": "code",
   "execution_count": 2,
   "id": "ac40a631",
   "metadata": {},
   "outputs": [],
   "source": [
    "with open(\"./DiseaseName\", \"r\") as f:\n",
    "    DiseaseName = f.readlines()\n",
    "    f.close()\n",
    "DiseaseName = [x.strip() for x in DiseaseName]\n",
    "DiseaseName = np.array(DiseaseName[1:])\n",
    "\n",
    "with open(\"./Drug-Disease Interactions\", \"r\") as f:\n",
    "    Drug_Disease = f.readlines()\n",
    "    f.close()\n",
    "Drug_Disease = [x.strip() for x in Drug_Disease[1:]]\n",
    "Drug_Disease = np.array([x.split('\\t') for x in Drug_Disease])\n",
    "\n",
    "with open(\"./DrugDomain1\", \"r\") as f:\n",
    "    DrugDomain1 = f.readlines()\n",
    "    f.close()\n",
    "DrugDomain1 = np.array([x.strip() for x in DrugDomain1[1:]])\n"
   ]
  },
  {
   "cell_type": "markdown",
   "id": "614660ce",
   "metadata": {},
   "source": [
    "### 2. Create index dictionary for Drug Name and Disease Name and export to .CSV file"
   ]
  },
  {
   "cell_type": "code",
   "execution_count": 3,
   "id": "9bbe4bf9",
   "metadata": {},
   "outputs": [],
   "source": [
    "def write_csv(Dict, Directory):\n",
    "    w = csv.writer(open(Directory, \"w\"))\n",
    "    # loop over dictionary keys and values\n",
    "    \n",
    "    for key, val in Drug_Dict.items():\n",
    "    # write every key and value to file\n",
    "        w.writerow([key, val])"
   ]
  },
  {
   "cell_type": "code",
   "execution_count": 4,
   "id": "35427d02",
   "metadata": {},
   "outputs": [],
   "source": [
    "Drug_Dict = dict(zip(DrugDomain1, range(0, len(DrugDomain1))))\n",
    "write_csv(Drug_Dict, Directory = \"./processeddata/Drug_Dict.csv\")\n",
    "\n",
    "Disease_Dict = dict(zip(DiseaseName, range(0, len(DiseaseName))))\n",
    "write_csv(Drug_Dict, Directory = \"./processeddata/Disease_Dict.csv\")"
   ]
  },
  {
   "cell_type": "markdown",
   "id": "0f6e87cb",
   "metadata": {},
   "source": [
    "### 3. Create Similarity Matrix"
   ]
  },
  {
   "cell_type": "code",
   "execution_count": 5,
   "id": "3463d3ef",
   "metadata": {},
   "outputs": [
    {
     "name": "stdout",
     "output_type": "stream",
     "text": [
      "Shape of matrix:  (1321, 4627)\n",
      "Total number of drug-disease interaction in similarity matrix:  111481\n",
      "Total number of drug-disease interaction in drug-disease interaction list:  111481\n",
      "--- 15.46869945526123 seconds ---\n"
     ]
    }
   ],
   "source": [
    "Drug_Disease_Matrix = np.zeros((len(DrugDomain1), len(DiseaseName)))\n",
    "\n",
    "# Check running time\n",
    "start_time = time.time()\n",
    "\n",
    "for disease in DiseaseName:\n",
    "    drug_index = [Drug_Dict[drug_name] for drug_name in Drug_Disease[Drug_Disease[:, 1] == disease, 0]]\n",
    "    disease_index = Disease_Dict[disease]\n",
    "    \n",
    "    Drug_Disease_Matrix[drug_index, disease_index] = 1\n",
    "\n",
    "# Check Correctness of the sum of interaction\n",
    "print(\"Shape of matrix: \" , Drug_Disease_Matrix.shape)\n",
    "print(\"Total number of drug-disease interaction in similarity matrix: \" , int(Drug_Disease_Matrix.sum()))\n",
    "print(\"Total number of drug-disease interaction in drug-disease interaction list: \" , len(Drug_Disease))\n",
    "print(\"--- %s seconds ---\" % (time.time() - start_time))\n",
    "scipy.io.savemat('./processeddata/Drug', mdict={'DrugDisease': Drug_Disease_Matrix})"
   ]
  }
 ],
 "metadata": {
  "kernelspec": {
   "display_name": "Python 3 (ipykernel)",
   "language": "python",
   "name": "python3"
  },
  "language_info": {
   "codemirror_mode": {
    "name": "ipython",
    "version": 3
   },
   "file_extension": ".py",
   "mimetype": "text/x-python",
   "name": "python",
   "nbconvert_exporter": "python",
   "pygments_lexer": "ipython3",
   "version": "3.8.0"
  }
 },
 "nbformat": 4,
 "nbformat_minor": 5
}
