{
 "cells": [
  {
   "cell_type": "code",
   "execution_count": 8,
   "id": "2d4d77e0",
   "metadata": {},
   "outputs": [],
   "source": [
    "import numpy as np\n",
    "import csv\n",
    "import time\n",
    "import scipy.io"
   ]
  },
  {
   "cell_type": "markdown",
   "id": "667c7e80",
   "metadata": {},
   "source": [
    "### 1. Load the Data"
   ]
  },
  {
   "cell_type": "code",
   "execution_count": 2,
   "id": "ac40a631",
   "metadata": {},
   "outputs": [],
   "source": [
    "with open(\"./DiseaseName\", \"r\") as f:\n",
    "    DiseaseName = f.readlines()\n",
    "    f.close()\n",
    "DiseaseName = [x.strip() for x in DiseaseName]\n",
    "DiseaseName = np.array(DiseaseName[1:])\n",
    "\n",
    "with open(\"./Drug-Disease Interactions\", \"r\") as f:\n",
    "    Drug_Disease = f.readlines()\n",
    "    f.close()\n",
    "Drug_Disease = [x.strip() for x in Drug_Disease[1:]]\n",
    "Drug_Disease = np.array([x.split('\\t') for x in Drug_Disease])\n",
    "\n",
    "with open(\"./DrugDomain1\", \"r\") as f:\n",
    "    DrugDomain1 = f.readlines()\n",
    "    f.close()\n",
    "DrugDomain1 = np.array([x.strip() for x in DrugDomain1[1:]])\n"
   ]
  },
  {
   "cell_type": "markdown",
   "id": "083c57c3",
   "metadata": {},
   "source": [
    "### 2. Create index dictionary for Drug Name and Disease Name and export to .CSV file"
   ]
  },
  {
   "cell_type": "code",
   "execution_count": 3,
   "id": "d8b6d84a",
   "metadata": {},
   "outputs": [],
   "source": [
    "def write_csv(Dict, Directory):\n",
    "    w = csv.writer(open(Directory, \"w\"))\n",
    "    # loop over dictionary keys and values\n",
    "    \n",
    "    for key, val in Drug_Dict.items():\n",
    "    # write every key and value to file\n",
    "        w.writerow([key, val])"
   ]
  },
  {
   "cell_type": "code",
   "execution_count": 4,
   "id": "51d75ebe",
   "metadata": {},
   "outputs": [],
   "source": [
    "Drug_Dict = dict(zip(DrugDomain1, range(0, len(DrugDomain1))))\n",
    "write_csv(Drug_Dict, Directory = \"./Drug_Dict.csv\")\n",
    "\n",
    "Disease_Dict = dict(zip(DiseaseName, range(0, len(DiseaseName))))\n",
    "write_csv(Drug_Dict, Directory = \"./Disease_Dict.csv\")"
   ]
  },
  {
   "cell_type": "markdown",
   "id": "cd2df0cd",
   "metadata": {},
   "source": [
    "### 3. Create Similarity Matrix"
   ]
  },
  {
   "cell_type": "code",
   "execution_count": 7,
   "id": "f8ffa277",
   "metadata": {},
   "outputs": [
    {
     "name": "stdout",
     "output_type": "stream",
     "text": [
      "Shape of matrix (1321, 4627)\n",
      "Total number of drug-disease interaction in similarity matrix 111481\n",
      "Total number of drug-disease interaction in drug-disease interaction list 111481\n",
      "--- 14.47433066368103 seconds ---\n"
     ]
    }
   ],
   "source": [
    "Drug_Disease_Matrix = np.zeros((len(DrugDomain1), len(DiseaseName)))\n",
    "\n",
    "# Check running time\n",
    "start_time = time.time()\n",
    "\n",
    "for disease in DiseaseName:\n",
    "    drug_index = [Drug_Dict[drug_name] for drug_name in Drug_Disease[Drug_Disease[:, 1] == disease, 0]]\n",
    "    disease_index = Disease_Dict[disease]\n",
    "    \n",
    "    Drug_Disease_Matrix[drug_index, disease_index] = 1\n",
    "\n",
    "# Check Correctness of the sum of interaction\n",
    "print(\"Shape of matrix: \" , Drug_Disease_Matrix.shape)\n",
    "print(\"Total number of drug-disease interaction in similarity matrix: \" , int(Drug_Disease_Matrix.sum()))\n",
    "print(\"Total number of drug-disease interaction in drug-disease interaction list: \" , len(Drug_Disease))\n",
    "print(\"--- %s seconds ---\" % (time.time() - start_time))\n",
    "write_csv(Drug_Dict, Directory = \"./Disease_Dict.csv\")"
   ]
  },
  {
   "cell_type": "code",
   "execution_count": 9,
   "id": "b02473ab",
   "metadata": {},
   "outputs": [
    {
     "ename": "AttributeError",
     "evalue": "'numpy.ndarray' object has no attribute 'items'",
     "output_type": "error",
     "traceback": [
      "\u001b[0;31m---------------------------------------------------------------------------\u001b[0m",
      "\u001b[0;31mAttributeError\u001b[0m                            Traceback (most recent call last)",
      "Input \u001b[0;32mIn [9]\u001b[0m, in \u001b[0;36m<cell line: 1>\u001b[0;34m()\u001b[0m\n\u001b[0;32m----> 1\u001b[0m \u001b[43mscipy\u001b[49m\u001b[38;5;241;43m.\u001b[39;49m\u001b[43mio\u001b[49m\u001b[38;5;241;43m.\u001b[39;49m\u001b[43msavemat\u001b[49m\u001b[43m(\u001b[49m\u001b[38;5;124;43m'\u001b[39;49m\u001b[38;5;124;43mtest.mat\u001b[39;49m\u001b[38;5;124;43m'\u001b[39;49m\u001b[43m,\u001b[49m\u001b[43m \u001b[49m\u001b[43mDrug_Disease_Matrix\u001b[49m\u001b[43m)\u001b[49m\n",
      "File \u001b[0;32m~/miniconda3/envs/jupyter-env/lib/python3.8/site-packages/scipy/io/matlab/mio.py:298\u001b[0m, in \u001b[0;36msavemat\u001b[0;34m(file_name, mdict, appendmat, format, long_field_names, do_compression, oned_as)\u001b[0m\n\u001b[1;32m    296\u001b[0m \u001b[38;5;28;01melse\u001b[39;00m:\n\u001b[1;32m    297\u001b[0m     \u001b[38;5;28;01mraise\u001b[39;00m \u001b[38;5;167;01mValueError\u001b[39;00m(\u001b[38;5;124m\"\u001b[39m\u001b[38;5;124mFormat should be \u001b[39m\u001b[38;5;124m'\u001b[39m\u001b[38;5;124m4\u001b[39m\u001b[38;5;124m'\u001b[39m\u001b[38;5;124m or \u001b[39m\u001b[38;5;124m'\u001b[39m\u001b[38;5;124m5\u001b[39m\u001b[38;5;124m'\u001b[39m\u001b[38;5;124m\"\u001b[39m)\n\u001b[0;32m--> 298\u001b[0m \u001b[43mMW\u001b[49m\u001b[38;5;241;43m.\u001b[39;49m\u001b[43mput_variables\u001b[49m\u001b[43m(\u001b[49m\u001b[43mmdict\u001b[49m\u001b[43m)\u001b[49m\n",
      "File \u001b[0;32m~/miniconda3/envs/jupyter-env/lib/python3.8/site-packages/scipy/io/matlab/mio5.py:877\u001b[0m, in \u001b[0;36mMatFile5Writer.put_variables\u001b[0;34m(self, mdict, write_header)\u001b[0m\n\u001b[1;32m    875\u001b[0m     \u001b[38;5;28mself\u001b[39m\u001b[38;5;241m.\u001b[39mwrite_file_header()\n\u001b[1;32m    876\u001b[0m \u001b[38;5;28mself\u001b[39m\u001b[38;5;241m.\u001b[39m_matrix_writer \u001b[38;5;241m=\u001b[39m VarWriter5(\u001b[38;5;28mself\u001b[39m)\n\u001b[0;32m--> 877\u001b[0m \u001b[38;5;28;01mfor\u001b[39;00m name, var \u001b[38;5;129;01min\u001b[39;00m \u001b[43mmdict\u001b[49m\u001b[38;5;241;43m.\u001b[39;49m\u001b[43mitems\u001b[49m():\n\u001b[1;32m    878\u001b[0m     \u001b[38;5;28;01mif\u001b[39;00m name[\u001b[38;5;241m0\u001b[39m] \u001b[38;5;241m==\u001b[39m \u001b[38;5;124m'\u001b[39m\u001b[38;5;124m_\u001b[39m\u001b[38;5;124m'\u001b[39m:\n\u001b[1;32m    879\u001b[0m         \u001b[38;5;28;01mcontinue\u001b[39;00m\n",
      "\u001b[0;31mAttributeError\u001b[0m: 'numpy.ndarray' object has no attribute 'items'"
     ]
    }
   ],
   "source": [
    "scipy.io.savemat('test.mat', Drug_Disease_Matrix)\n",
    ", mdict={'arr': arr}"
   ]
  },
  {
   "cell_type": "code",
   "execution_count": 10,
   "id": "d4637202",
   "metadata": {},
   "outputs": [
    {
     "data": {
      "text/plain": [
       "array([[0., 0., 0., ..., 0., 0., 0.],\n",
       "       [0., 0., 0., ..., 0., 0., 0.],\n",
       "       [0., 0., 0., ..., 0., 0., 0.],\n",
       "       ...,\n",
       "       [0., 0., 0., ..., 0., 0., 0.],\n",
       "       [0., 0., 0., ..., 0., 0., 0.],\n",
       "       [0., 0., 0., ..., 0., 0., 0.]])"
      ]
     },
     "execution_count": 10,
     "metadata": {},
     "output_type": "execute_result"
    }
   ],
   "source": [
    "Drug_Disease_Matrix"
   ]
  },
  {
   "cell_type": "code",
   "execution_count": null,
   "id": "fe69edca",
   "metadata": {},
   "outputs": [],
   "source": []
  }
 ],
 "metadata": {
  "kernelspec": {
   "display_name": "Python 3 (ipykernel)",
   "language": "python",
   "name": "python3"
  },
  "language_info": {
   "codemirror_mode": {
    "name": "ipython",
    "version": 3
   },
   "file_extension": ".py",
   "mimetype": "text/x-python",
   "name": "python",
   "nbconvert_exporter": "python",
   "pygments_lexer": "ipython3",
   "version": "3.8.0"
  }
 },
 "nbformat": 4,
 "nbformat_minor": 5
}
