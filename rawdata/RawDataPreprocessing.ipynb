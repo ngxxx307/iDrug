{
 "cells": [
  {
   "cell_type": "code",
   "execution_count": 26,
   "id": "2d4d77e0",
   "metadata": {},
   "outputs": [],
   "source": [
    "import numpy as np\n",
    "import pandas as pd\n",
    "import csv\n",
    "import time\n",
    "import scipy.io\n",
    "from matplotlib import pyplot as plt"
   ]
  },
  {
   "cell_type": "markdown",
   "id": "c9caac96",
   "metadata": {},
   "source": [
    "### 1. Load the Data and create index dictionary"
   ]
  },
  {
   "cell_type": "code",
   "execution_count": 27,
   "id": "ac40a631",
   "metadata": {},
   "outputs": [],
   "source": [
    "with open(\"./DiseaseName\", \"r\") as f:\n",
    "    DiseaseName = f.readlines()\n",
    "    f.close()\n",
    "DiseaseName = [x.strip() for x in DiseaseName]\n",
    "DiseaseName = np.array(DiseaseName[1:])\n",
    "\n",
    "with open(\"./Drug-Disease Interactions\", \"r\") as f:\n",
    "    Drug_Disease = f.readlines()\n",
    "    f.close()\n",
    "Drug_Disease = [x.strip() for x in Drug_Disease[1:]]\n",
    "Drug_Disease = np.array([x.split('\\t') for x in Drug_Disease])\n",
    "\n",
    "with open(\"./DrugDomain1\", \"r\") as f:\n",
    "    DrugDomain1 = f.readlines()\n",
    "    f.close()\n",
    "DrugDomain1 = np.array([x.strip() for x in DrugDomain1[1:]])\n",
    "\n",
    "with open(\"./disease_similarity\", \"r\") as f:\n",
    "    disease_similarity = f.readlines()\n",
    "    f.close()\n",
    "disease_similarity = [x.strip().split('\\t') for x in disease_similarity]"
   ]
  },
  {
   "cell_type": "code",
   "execution_count": 28,
   "id": "59d36afe",
   "metadata": {},
   "outputs": [],
   "source": [
    "Drug_Dict = dict(zip(DrugDomain1, range(0, len(DrugDomain1))))\n",
    "Disease_Dict = dict(zip(DiseaseName, range(0, len(DiseaseName))))"
   ]
  },
  {
   "cell_type": "markdown",
   "id": "0f6e87cb",
   "metadata": {},
   "source": [
    "### 2. Create Similarity Matrix"
   ]
  },
  {
   "cell_type": "code",
   "execution_count": 29,
   "id": "3463d3ef",
   "metadata": {},
   "outputs": [
    {
     "name": "stdout",
     "output_type": "stream",
     "text": [
      "Shape of matrix:  (1321, 4627)\n",
      "Total number of drug-disease interaction in similarity matrix:  111481\n",
      "Total number of drug-disease interaction in drug-disease interaction list:  111481\n",
      "--- 13.910539150238037 seconds ---\n"
     ]
    }
   ],
   "source": [
    "# Create Drug-Disease Similarity Matrix\n",
    "\n",
    "Drug_Disease_Matrix = np.zeros((len(DrugDomain1), len(DiseaseName)))\n",
    "\n",
    "# Check running time\n",
    "start_time = time.time()\n",
    "\n",
    "for disease in DiseaseName:\n",
    "    drug_index = [Drug_Dict[drug_name] for drug_name in Drug_Disease[Drug_Disease[:, 1] == disease, 0]]\n",
    "    disease_index = Disease_Dict[disease]\n",
    "    \n",
    "    Drug_Disease_Matrix[drug_index, disease_index] = 1\n",
    "\n",
    "# Check Correctness of the sum of interaction\n",
    "print(\"Shape of matrix: \" , Drug_Disease_Matrix.shape)\n",
    "print(\"Total number of drug-disease interaction in similarity matrix: \" , int(Drug_Disease_Matrix.sum()))\n",
    "print(\"Total number of drug-disease interaction in drug-disease interaction list: \" , len(Drug_Disease))\n",
    "print(\"--- %s seconds ---\" % (time.time() - start_time))\n",
    "scipy.io.savemat('./processeddata/DrugDisease', mdict={'DrugDisease': Drug_Disease_Matrix})"
   ]
  },
  {
   "cell_type": "code",
   "execution_count": 30,
   "id": "323d4f03",
   "metadata": {},
   "outputs": [
    {
     "name": "stdout",
     "output_type": "stream",
     "text": [
      "0  /  28649246\n",
      "1000000  /  28649246\n",
      "2000000  /  28649246\n",
      "3000000  /  28649246\n",
      "4000000  /  28649246\n",
      "5000000  /  28649246\n",
      "6000000  /  28649246\n",
      "7000000  /  28649246\n",
      "8000000  /  28649246\n",
      "9000000  /  28649246\n",
      "10000000  /  28649246\n",
      "11000000  /  28649246\n",
      "12000000  /  28649246\n",
      "13000000  /  28649246\n",
      "14000000  /  28649246\n",
      "15000000  /  28649246\n",
      "16000000  /  28649246\n",
      "17000000  /  28649246\n",
      "18000000  /  28649246\n",
      "19000000  /  28649246\n",
      "20000000  /  28649246\n",
      "21000000  /  28649246\n",
      "22000000  /  28649246\n",
      "23000000  /  28649246\n",
      "24000000  /  28649246\n",
      "25000000  /  28649246\n",
      "26000000  /  28649246\n",
      "27000000  /  28649246\n",
      "28000000  /  28649246\n",
      "--- 42.37141680717468 seconds ---\n"
     ]
    }
   ],
   "source": [
    "# Create Disease-Disease Similarity Matrix\n",
    "\n",
    "DiseaseSimMat = np.zeros((len(DiseaseName), len(DiseaseName)))\n",
    "\n",
    "# Check running time\n",
    "start_time = time.time()\n",
    "\n",
    "i = 0\n",
    "for d1, d2, sim in disease_similarity:\n",
    "    if (i%1000000 == 0):\n",
    "        print(i, \" / \", len(disease_similarity))\n",
    "    i += 1\n",
    "    try: \n",
    "        DiseaseSimMat[Disease_Dict[d1], Disease_Dict[d2]] = sim\n",
    "        DiseaseSimMat[Disease_Dict[d2], Disease_Dict[d1]] = sim\n",
    "    except:\n",
    "        pass\n",
    "print(\"--- %s seconds ---\" % (time.time() - start_time))\n",
    "\n",
    "# Find disease that has 0 similiarity score to all other diseases\n",
    "NullList = [] \n",
    "for i, disease in enumerate(DiseaseSimMat):\n",
    "    if (disease.sum() == 0):\n",
    "        NullList.append(i)\n",
    "\n",
    "# Remove diseases in the null list\n",
    "DiseaseSimMat = np.delete(DiseaseSimMat, NullList, 1)\n",
    "DiseaseSimMat = np.delete(DiseaseSimMat, NullList, 0)\n",
    "scipy.io.savemat('./processeddata/DiseaseSimMat', mdict={'DiseaseSimMat': DiseaseSimMat})"
   ]
  },
  {
   "cell_type": "markdown",
   "id": "2b8572d9",
   "metadata": {},
   "source": [
    "### 3. Save Dictionary Data to .CSV"
   ]
  },
  {
   "cell_type": "code",
   "execution_count": 31,
   "id": "ebfef4a9",
   "metadata": {},
   "outputs": [],
   "source": [
    "def write_csv(Dict, Directory):\n",
    "    w = csv.writer(open(Directory, \"w\"))\n",
    "    # loop over dictionary keys and values\n",
    "    \n",
    "    for key, val in Drug_Dict.items():\n",
    "    # write every key and value to file\n",
    "        w.writerow([key, val])"
   ]
  },
  {
   "cell_type": "code",
   "execution_count": 33,
   "id": "ca18bed0",
   "metadata": {},
   "outputs": [
    {
     "name": "stdout",
     "output_type": "stream",
     "text": [
      "Done\n"
     ]
    }
   ],
   "source": [
    "# Remove diseases in drug name dictionary\n",
    "DiseaseName = [DiseaseName[i] for i in range(0, len(DiseaseName)) if i not in NullList]\n",
    "\n",
    "with open(r'./processeddata/DiseaseName', 'w') as fp:\n",
    "    for disease in DiseaseName:\n",
    "        # write each item on a new line\n",
    "        fp.write(\"%s\\n\" % disease)\n",
    "    print('Done')\n",
    "\n",
    "Disease_Dict = dict(zip(DiseaseName, range(0, len(DiseaseName))))\n",
    "\n",
    "write_csv(Drug_Dict, Directory = \"./processeddata/Drug_Dict.csv\")\n",
    "write_csv(Drug_Dict, Directory = \"./processeddata/Disease_Dict.csv\")"
   ]
  }
 ],
 "metadata": {
  "kernelspec": {
   "display_name": "Python 3 (ipykernel)",
   "language": "python",
   "name": "python3"
  },
  "language_info": {
   "codemirror_mode": {
    "name": "ipython",
    "version": 3
   },
   "file_extension": ".py",
   "mimetype": "text/x-python",
   "name": "python",
   "nbconvert_exporter": "python",
   "pygments_lexer": "ipython3",
   "version": "3.8.0"
  }
 },
 "nbformat": 4,
 "nbformat_minor": 5
}
