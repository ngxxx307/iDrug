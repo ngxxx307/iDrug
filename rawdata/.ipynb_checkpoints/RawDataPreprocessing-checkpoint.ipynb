{
 "cells": [
  {
   "cell_type": "code",
   "execution_count": 3,
   "id": "2d4d77e0",
   "metadata": {},
   "outputs": [],
   "source": [
    "import numpy as np"
   ]
  },
  {
   "cell_type": "code",
   "execution_count": 4,
   "id": "ac40a631",
   "metadata": {},
   "outputs": [
    {
     "name": "stdout",
     "output_type": "stream",
     "text": [
      "[['DB02365', '614097'], ['DB02365', '612631'], ['DB02365', '104300'], ['DB02365', '204100'], ['DB02365', '605714']]\n"
     ]
    }
   ],
   "source": [
    "with open(\"./DiseaseName\", \"r\") as f:\n",
    "    DiseaseName = np.array(f.readlines())\n",
    "    f.close()\n",
    "DiseaseName = [x.strip() for x in DiseaseName]\n",
    "DiseaseName = DiseaseName[1:]\n",
    "\n",
    "with open(\"./Drug-Disease Interactions\", \"r\") as f:\n",
    "    Drug_Disease = f.readlines()\n",
    "    f.close()\n",
    "\n",
    "Drug_Disease = [x.strip() for x in Drug_Disease]\n",
    "Drug_Disease = Drug_Disease[1:]\n",
    "Drug_Disease = [x.split('\\t') for x in Drug_Disease]\n",
    "print(Drug_Disease[0:5])\n"
   ]
  },
  {
   "cell_type": "code",
   "execution_count": 4,
   "id": "a1e03680",
   "metadata": {},
   "outputs": [
    {
     "ename": "NameError",
     "evalue": "name 'np' is not defined",
     "output_type": "error",
     "traceback": [
      "\u001b[0;31m---------------------------------------------------------------------------\u001b[0m",
      "\u001b[0;31mNameError\u001b[0m                                 Traceback (most recent call last)",
      "Input \u001b[0;32mIn [4]\u001b[0m, in \u001b[0;36m<cell line: 1>\u001b[0;34m()\u001b[0m\n\u001b[0;32m----> 1\u001b[0m \u001b[43mnp\u001b[49m\u001b[38;5;241m.\u001b[39marray\n",
      "\u001b[0;31mNameError\u001b[0m: name 'np' is not defined"
     ]
    }
   ],
   "source": [
    "Drug_Disease_Interaction = np.ones()"
   ]
  },
  {
   "cell_type": "code",
   "execution_count": 7,
   "id": "c76130c5",
   "metadata": {},
   "outputs": [
    {
     "data": {
      "text/plain": [
       "4627"
      ]
     },
     "execution_count": 7,
     "metadata": {},
     "output_type": "execute_result"
    }
   ],
   "source": [
    "len(DiseaseName)"
   ]
  },
  {
   "cell_type": "code",
   "execution_count": null,
   "id": "26c0edb2",
   "metadata": {},
   "outputs": [],
   "source": []
  }
 ],
 "metadata": {
  "kernelspec": {
   "display_name": "Python 3 (ipykernel)",
   "language": "python",
   "name": "python3"
  },
  "language_info": {
   "codemirror_mode": {
    "name": "ipython",
    "version": 3
   },
   "file_extension": ".py",
   "mimetype": "text/x-python",
   "name": "python",
   "nbconvert_exporter": "python",
   "pygments_lexer": "ipython3",
   "version": "3.8.0"
  }
 },
 "nbformat": 4,
 "nbformat_minor": 5
}
