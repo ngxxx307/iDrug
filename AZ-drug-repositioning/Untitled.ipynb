{
 "cells": [
  {
   "cell_type": "code",
   "execution_count": 13,
   "id": "04c0be68",
   "metadata": {},
   "outputs": [],
   "source": [
    "import numpy as np\n",
    "import pandas as pd\n",
    "from numpy import genfromtxt\n",
    "import csv"
   ]
  },
  {
   "cell_type": "code",
   "execution_count": 5,
   "id": "832d3cbf",
   "metadata": {},
   "outputs": [],
   "source": [
    "modelPrediction = genfromtxt('../modelPrediction.csv', delimiter=',')"
   ]
  },
  {
   "cell_type": "code",
   "execution_count": 10,
   "id": "d7069b0f",
   "metadata": {},
   "outputs": [],
   "source": [
    "Disease_Dict = "
   ]
  },
  {
   "cell_type": "code",
   "execution_count": 12,
   "id": "1fa4074f",
   "metadata": {},
   "outputs": [
    {
     "data": {
      "text/plain": [
       "(1321, 3966)"
      ]
     },
     "execution_count": 12,
     "metadata": {},
     "output_type": "execute_result"
    }
   ],
   "source": [
    "AlzheimerDiseaseList = ['104300', '104310', '607822', \n",
    "                        '606889', '608907', '615590',\n",
    "                       '605526', '606187', '607116', \n",
    "                        '609790', '611073', '604154', \n",
    "                       '615080', '602096', '609636',\n",
    "                       '615711', '300756', '611152', \n",
    "                       '611154', '502500', '605055',]"
   ]
  },
  {
   "cell_type": "code",
   "execution_count": 30,
   "id": "a20008a0",
   "metadata": {},
   "outputs": [],
   "source": [
    "Disease_Dict = pd.read_csv('../rawdata/processeddata/Disease_Dict.csv')"
   ]
  },
  {
   "cell_type": "code",
   "execution_count": null,
   "id": "6af7158e",
   "metadata": {},
   "outputs": [],
   "source": []
  }
 ],
 "metadata": {
  "kernelspec": {
   "display_name": "Python 3 (ipykernel)",
   "language": "python",
   "name": "python3"
  },
  "language_info": {
   "codemirror_mode": {
    "name": "ipython",
    "version": 3
   },
   "file_extension": ".py",
   "mimetype": "text/x-python",
   "name": "python",
   "nbconvert_exporter": "python",
   "pygments_lexer": "ipython3",
   "version": "3.8.0"
  }
 },
 "nbformat": 4,
 "nbformat_minor": 5
}
